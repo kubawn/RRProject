{
 "cells": [
  {
   "cell_type": "markdown",
   "id": "892f1fce",
   "metadata": {},
   "source": [
    "# Presentation\n",
    "Runan Zhang(457929)"
   ]
  },
  {
   "cell_type": "markdown",
   "id": "6ca9eff1",
   "metadata": {},
   "source": [
    "# 1.Our Goal"
   ]
  },
  {
   "cell_type": "markdown",
   "id": "da4a509f",
   "metadata": {},
   "source": [
    "The goal of this project is to simulate the mid-price of a stock using a random walk model and compare the results with findings from the paper \"High-frequency trading in a limit order book\" by Marco Avellaneda and Sasha Stoikov. We aim to understand the behavior of stock prices in a high-frequency trading environment and validate our simulation model against the theoretical framework provided in the paper."
   ]
  },
  {
   "cell_type": "markdown",
   "id": "9c6b971b",
   "metadata": {},
   "source": [
    "# 2.ChatGPT Use"
   ]
  },
  {
   "cell_type": "markdown",
   "id": "6ab76556",
   "metadata": {},
   "source": [
    "-Clarifying the concepts and methodologies presented in the paper.\n",
    "\n",
    "-Generating and refining the Python code for the random walk simulation.\n",
    "\n",
    "-Providing explanations and comments for the code to enhance understanding.\n",
    "\n",
    "-Assisting in the structuring and writing of the presentation content."
   ]
  },
  {
   "cell_type": "markdown",
   "id": "5513e1f5",
   "metadata": {},
   "source": [
    "# 3.Set Up"
   ]
  },
  {
   "cell_type": "markdown",
   "id": "f31447be",
   "metadata": {},
   "source": [
    "-numpy for numerical operations and random number generation.\n",
    "\n",
    "-matplotlib for plotting the simulation results.\n",
    "\n",
    "-time for setting the random seed based on the current time."
   ]
  },
  {
   "cell_type": "code",
   "execution_count": 19,
   "id": "3ab003d6",
   "metadata": {},
   "outputs": [],
   "source": [
    "import numpy as np\n",
    "import matplotlib.pyplot as plt\n",
    "import time"
   ]
  },
  {
   "cell_type": "markdown",
   "id": "6b119608",
   "metadata": {},
   "source": [
    "# 4.Codes"
   ]
  },
  {
   "cell_type": "markdown",
   "id": "d9f5d68c",
   "metadata": {},
   "source": [
    "## Step1---Ramdom Walk"
   ]
  },
  {
   "cell_type": "markdown",
   "id": "437602b4",
   "metadata": {},
   "source": [
    "### 1.Imports and Initialization:\n",
    "\n"
   ]
  },
  {
   "cell_type": "code",
   "execution_count": 20,
   "id": "769aa199",
   "metadata": {},
   "outputs": [],
   "source": [
    "import numpy as np\n",
    "import matplotlib.pyplot as plt\n",
    "import time"
   ]
  },
  {
   "cell_type": "markdown",
   "id": "29991bfd",
   "metadata": {},
   "source": [
    "### 2.Random Seed Initialization:\n",
    "\n"
   ]
  },
  {
   "cell_type": "code",
   "execution_count": 21,
   "id": "c42f0247",
   "metadata": {},
   "outputs": [],
   "source": [
    "current_time = int(time.time())\n",
    "np.random.seed(current_time)"
   ]
  },
  {
   "cell_type": "markdown",
   "id": "2d8f864a",
   "metadata": {},
   "source": [
    "### 3.Function Definition:"
   ]
  },
  {
   "cell_type": "code",
   "execution_count": 22,
   "id": "f632eec2",
   "metadata": {},
   "outputs": [],
   "source": [
    "def simulate_mid_price(S0, sigma, T, dt):\n",
    "    \n",
    "    N = int(T / dt)  # Number of time steps\n",
    "    W = np.random.normal(0, np.sqrt(dt), N)  # Brownian increments\n",
    "    S = np.zeros(N)\n",
    "    S[0] = S0\n",
    "    \n",
    "    for t in range(1, N):\n",
    "        S[t] = S[t-1] + sigma * W[t-1]\n",
    "        \n",
    "    return S"
   ]
  },
  {
   "cell_type": "code",
   "execution_count": 23,
   "id": "6a9e609d",
   "metadata": {},
   "outputs": [
    {
     "data": {
      "image/png": "[encoded data removed]",
      "text/plain": [
       "<Figure size 432x288 with 1 Axes>"
      ]
     },
     "metadata": {
      "needs_background": "light"
     },
     "output_type": "display_data"
    }
   ],
   "source": [
    "# Parameters\n",
    "S0 = 100  # Initial stock price\n",
    "sigma = 0.2  # Volatility\n",
    "T = 1.0  # Total time period (e.g., 1 year)\n",
    "dt = 0.01  # Time step (e.g., daily steps)\n",
    "\n",
    "# Simulate mid-price\n",
    "mid_price = simulate_mid_price(S0, sigma, T, dt)\n",
    "\n",
    "# Plot the results\n",
    "plt.plot(mid_price)\n",
    "plt.title(\"Simulated Mid-Price of Stock\")\n",
    "plt.xlabel(\"Time Steps\")\n",
    "plt.ylabel(\"Price\")\n",
    "plt.show()\n"
   ]
  },
  {
   "cell_type": "markdown",
   "id": "33a4c6a3",
   "metadata": {},
   "source": [
    "# Step2--Strategy Implement"
   ]
  },
  {
   "cell_type": "markdown",
   "id": "ec326c9e",
   "metadata": {},
   "source": [
    "We will have functions to retrieve prices for our proposed 'inventory' strategy.\n",
    "\n",
    "Here're inserting two classes InventoryStrategy (market making strategy that was proposed in the paper) and BenchmarkStrategy (the simple strategy they compare to). \n",
    "\n",
    "Both take a random walk (list of prices) and some parameters during creation and return PnL from run_strategy() \n",
    "function. \n",
    "\n",
    "There are some additional elements to exactly fit what was in the paper but that’s the general idea."
   ]
  },
  {
   "cell_type": "markdown",
   "id": "84113bdd",
   "metadata": {},
   "source": [
    "## --InventoryStrategy"
   ]
  },
  {
   "cell_type": "code",
   "execution_count": 24,
   "id": "11af2e3f",
   "metadata": {},
   "outputs": [],
   "source": [
    "class InventoryStrategy:\n",
    "    def __init__(self, prices, sigma=2, theta=0.1, k=1.5, A=140, dt=0.005, T=1) -> None:\n",
    "        self.prices = prices # prices\n",
    "        self.spreads = [] # here we will save spreads for use in benchmark strategy\n",
    "        self.sigma = sigma # stock's volatility\n",
    "        self.theta = theta # risk aversion parameter\n",
    "        self.k = k # parameter for the arrival rate function\n",
    "        self.A = A # parameter for the arrival rate function\n",
    "        self.dt = dt # time resolution parameter\n",
    "        self.T = T # terminal time\n",
    "        self.inventory = 0 # current inventory\n",
    "        self.pnl = 0 # current pnl\n",
    "\n",
    "    def calculate_bid_ask(self, mid_price, t):\n",
    "        # Calculate the reservation price\n",
    "        reservation_price = mid_price - self.inventory * self.theta * self.sigma**2 * (self.T - t)\n",
    "        \n",
    "        # Calculate the optimal distances for bid and ask prices\n",
    "        delta_b = self.sigma**2 * (self.T - t) + (2 / self.theta) * np.log(1 + self.theta / self.k)\n",
    "        delta_a = self.sigma**2 * (self.T - t) + (2 / self.theta) * np.log(1 + self.theta / self.k)\n",
    "        \n",
    "        # Calculate bid and ask prices\n",
    "        bid_price = reservation_price - delta_b\n",
    "        ask_price = reservation_price + delta_a\n",
    "\n",
    "        self.spreads.append(ask_price - bid_price)\n",
    "        \n",
    "        return bid_price, ask_price\n",
    "    \n",
    "    def update_inventory(self, mid_price, t):\n",
    "        bid, ask = self.calculate_bid_ask(mid_price, t)\n",
    "\n",
    "        lambda_b = self.A * np.exp(-self.k * (ask - mid_price))\n",
    "        lambda_a = self.A * np.exp(-self.k * (mid_price - bid))\n",
    "        \n",
    "        if np.random.rand() < lambda_b * self.dt:\n",
    "            self.inventory += 1\n",
    "            self.pnl -= bid\n",
    "        \n",
    "        if np.random.rand() < lambda_a * self.dt:\n",
    "            self.inventory -= 1\n",
    "            self.pnl += ask\n",
    "\n",
    "    def get_average_spread(self):\n",
    "        return sum(self.spreads)/len(self.spreads)\n",
    "    \n",
    "    def run_strategy(self):\n",
    "        t = 0\n",
    "        for price in self.prices:\n",
    "            self.update_inventory(price, t)\n",
    "            t += self.dt\n",
    "\n",
    "        self.pnl += self.inventory*self.prices[-1]\n",
    "\n",
    "        return self.pnl\n",
    "    \n",
    "    def reset(self, prices=None):\n",
    "        self.inventory = 0\n",
    "        self.pnl = 0\n",
    "        self.spreads = []\n",
    "        if prices:\n",
    "            self.prices = prices\n"
   ]
  },
  {
   "cell_type": "markdown",
   "id": "6ebb20ef",
   "metadata": {},
   "source": [
    "## --BenchmarkStrategy"
   ]
  },
  {
   "cell_type": "markdown",
   "id": "4e6a8a8a",
   "metadata": {},
   "source": [
    "Benchmark strategy uses symmetric bid/ask spread where spread is the average spread of the 'inventory' strategy"
   ]
  },
  {
   "cell_type": "code",
   "execution_count": 25,
   "id": "ac240310",
   "metadata": {},
   "outputs": [],
   "source": [
    "class BenchmarkStrategy:\n",
    "    def __init__(self, prices, spread, A=140, k=1.5, dt=0.005):\n",
    "        self.prices = prices  # stock prices\n",
    "        self.spread = spread  # spread to be used - in the paper it was avg spread of the other strategy\n",
    "        self.inventory = 0\n",
    "        self.pnl = 0\n",
    "        self.A = A  \n",
    "        self.k = k  \n",
    "        self.dt = dt  \n",
    "    \n",
    "    # get bid and ask for a given moment\n",
    "    def calculate_bid_ask(self, price):\n",
    "        return price - self.spread / 2, price + self.spread / 2\n",
    "\n",
    "    # update inventory for a given moment\n",
    "    def update_inventory(self, bid, ask, price):\n",
    "        \n",
    "        # Simulate arrival of market orders\n",
    "        lambda_b = self.A * np.exp(-self.k * (ask - price))\n",
    "        lambda_a = self.A * np.exp(-self.k * (price - bid))\n",
    "        \n",
    "        if np.random.rand() < lambda_b * self.dt:\n",
    "            self.inventory += 1\n",
    "            self.pnl -= bid\n",
    "        \n",
    "        if np.random.rand() < lambda_a * self.dt:\n",
    "            self.inventory -= 1\n",
    "            self.pnl += ask\n",
    "\n",
    "    # get pnl for a single simulation\n",
    "    def run_strategy(self):\n",
    "        for price in self.prices:\n",
    "            bid, ask = self.calculate_bid_ask(price)\n",
    "            self.update_inventory(bid, ask, price)\n",
    "\n",
    "        self.pnl += self.inventory*self.prices[-1]\n",
    "\n",
    "        return self.pnl\n",
    "    \n",
    "    # reset class between runs\n",
    "    def reset(self, spread, prices=None):\n",
    "        self.inventory = 0\n",
    "        self.pnl = 0\n",
    "        self.spread = spread\n",
    "        if prices:\n",
    "            self.prices = prices\n",
    "\n",
    "\n",
    "    \n",
    "    "
   ]
  },
  {
   "cell_type": "markdown",
   "id": "c21a393c",
   "metadata": {},
   "source": [
    "# Step3-- Simulation"
   ]
  },
  {
   "cell_type": "code",
   "execution_count": 26,
   "id": "51752a72",
   "metadata": {},
   "outputs": [
    {
     "data": {
      "image/png": "[encoded data removed]",
      "text/plain": [
       "<Figure size 432x288 with 1 Axes>"
      ]
     },
     "metadata": {
      "needs_background": "light"
     },
     "output_type": "display_data"
    },
    {
     "name": "stdout",
     "output_type": "stream",
     "text": [
      "13.295216608859912\n"
     ]
    }
   ],
   "source": [
    "res_inv = []\n",
    "res_bench = []\n",
    "\n",
    "prices = simulate_mid_price(100, 2, 1, 0.005) \n",
    "\n",
    "for i in range(1000):\n",
    "    inv = InventoryStrategy(prices=prices)\n",
    "    res_inv.append(inv.run_strategy())\n",
    "    bench = BenchmarkStrategy(prices=prices, spread=inv.get_average_spread())\n",
    "    res_bench.append(bench.run_strategy())\n",
    "\n",
    "num_bins = 20\n",
    "\n",
    "# Plot histograms\n",
    "plt.hist(res_inv, bins=num_bins, alpha=0.5, label='Inventory Strategy PnL')\n",
    "plt.hist(res_bench, bins=num_bins, alpha=0.5, label='Benchmark Strategy PnL')\n",
    "\n",
    "# Add labels and legend\n",
    "plt.xlabel('PnL Values')\n",
    "plt.ylabel('Frequency')\n",
    "plt.title('Histogram of Inventory and Benchmark Strategies PnLs')\n",
    "plt.legend(loc='upper right')\n",
    "\n",
    "# Show plot\n",
    "plt.show()\n",
    "\n",
    "print(sum(res_inv)/len(res_inv))"
   ]
  },
  {
   "cell_type": "markdown",
   "id": "b43bd8c7",
   "metadata": {},
   "source": [
    "# 5. Results"
   ]
  },
  {
   "cell_type": "markdown",
   "id": "4913af5f",
   "metadata": {},
   "source": []
  },
  {
   "cell_type": "code",
   "execution_count": null,
   "id": "16a8e3e3",
   "metadata": {},
   "outputs": [],
   "source": []
  }
 ],
 "metadata": {
  "kernelspec": {
   "display_name": "Python 3",
   "language": "python",
   "name": "python3"
  },
  "language_info": {
   "codemirror_mode": {
    "name": "ipython",
    "version": 3
   },
   "file_extension": ".py",
   "mimetype": "text/x-python",
   "name": "python",
   "nbconvert_exporter": "python",
   "pygments_lexer": "ipython3",
   "version": "3.8.8"
  }
 },
 "nbformat": 4,
 "nbformat_minor": 5
}
